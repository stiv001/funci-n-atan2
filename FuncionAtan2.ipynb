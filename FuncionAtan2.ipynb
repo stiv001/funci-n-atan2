{
 "cells": [
  {
   "cell_type": "markdown",
   "metadata": {},
   "source": [
    "# Escuela Politecnica Nacional \n",
    "\n",
    "Stiv Quishpe \n",
    "\n",
    "Link \n",
    "\n",
    "Tema : Funcion atan2 \n",
    "\n"
   ]
  },
  {
   "cell_type": "markdown",
   "metadata": {
    "vscode": {
     "languageId": "plaintext"
    }
   },
   "source": [
    "La función atan2 pertenece a la biblioteca matemática de Python (math) y se utiliza para calcular el arctángulo de las coordenadas cartesianas (y, x). Devuelve el ángulo en radianes entre el eje positivo de las x y la línea formada desde el origen (0, 0) hasta el punto (x, y).\n"
   ]
  },
  {
   "cell_type": "code",
   "execution_count": 1,
   "metadata": {},
   "outputs": [
    {
     "name": "stdout",
     "output_type": "stream",
     "text": [
      "Ángulo con atan2 (en radianes): 0.7853981633974483\n"
     ]
    }
   ],
   "source": [
    "# Calcular el ángulo de un punto cartesiano\n",
    "\n",
    "import math\n",
    "\n",
    "y = 1\n",
    "x = 1\n",
    "\n",
    "# Usando atan2\n",
    "angulo = math.atan2(y, x)\n",
    "print(\"angulo con atan2 (en radianes):\", angulo)\n",
    "\n"
   ]
  },
  {
   "cell_type": "code",
   "execution_count": null,
   "metadata": {},
   "outputs": [],
   "source": [
    "# Puntos en diferentes cuadrantes\n",
    "\n",
    "import math\n",
    "\n",
    "puntos = [ (1, 1), (-1, 1), (-1, -1), (1, -1) ]\n",
    "\n",
    "for y, x in puntos:\n",
    "    angle = math.atan2(y, x)\n",
    "    print(f\"Punto ({y}, {x}) -> Ángulo: {math.degrees(angle)} grados\")\n"
   ]
  }
 ],
 "metadata": {
  "kernelspec": {
   "display_name": "base",
   "language": "python",
   "name": "python3"
  },
  "language_info": {
   "codemirror_mode": {
    "name": "ipython",
    "version": 3
   },
   "file_extension": ".py",
   "mimetype": "text/x-python",
   "name": "python",
   "nbconvert_exporter": "python",
   "pygments_lexer": "ipython3",
   "version": "3.12.3"
  }
 },
 "nbformat": 4,
 "nbformat_minor": 2
}
