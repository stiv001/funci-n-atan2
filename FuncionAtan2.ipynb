{
 "cells": [
  {
   "cell_type": "markdown",
   "metadata": {},
   "source": [
    "# Escuela Politecnica Nacional \n",
    "\n",
    "Stiv Quishpe \n",
    "\n",
    "Link \n",
    "\n",
    "https://github.com/stiv001/funcion-atan2.git \n",
    "\n",
    "# Tema : Funcion atan2 \n",
    "\n"
   ]
  },
  {
   "cell_type": "markdown",
   "metadata": {
    "vscode": {
     "languageId": "plaintext"
    }
   },
   "source": [
    "La función atan2 pertenece a la biblioteca matemática de Python (math) y se utiliza para calcular el arctángulo de las coordenadas cartesianas (y, x). Devuelve el ángulo en radianes entre el eje positivo de las x y la línea formada desde el origen (0, 0) hasta el punto (x, y).\n"
   ]
  },
  {
   "cell_type": "code",
   "execution_count": 13,
   "metadata": {},
   "outputs": [
    {
     "name": "stdout",
     "output_type": "stream",
     "text": [
      "angulo con atan2 (en radianes): 0.7853981633974483\n"
     ]
    }
   ],
   "source": [
    "# Calcular el ángulo de un punto cartesiano\n",
    "\n",
    "import math\n",
    "\n",
    "y = 1\n",
    "x = 1\n",
    "\n",
    "# Usando atan2\n",
    "angulo = math.atan2(y, x)\n",
    "print(\"angulo con atan2 (en radianes):\", angulo)\n",
    "\n"
   ]
  },
  {
   "cell_type": "code",
   "execution_count": 9,
   "metadata": {},
   "outputs": [
    {
     "name": "stdout",
     "output_type": "stream",
     "text": [
      "Punto (1, 1) -> angulo: 45.0 grados\n",
      "Punto (-1, 1) -> angulo: -45.0 grados\n",
      "Punto (-1, -1) -> angulo: -135.0 grados\n",
      "Punto (1, -1) -> angulo: 135.0 grados\n"
     ]
    }
   ],
   "source": [
    "# Puntos en diferentes cuadrantes\n",
    "\n",
    "import math\n",
    "\n",
    "puntos = [ (1, 1), (-1, 1), (-1, -1), (1, -1) ]\n",
    "\n",
    "for y, x in puntos:\n",
    "    angulo = math.atan2(y, x)\n",
    "    print(f\"Punto ({y}, {x}) -> angulo: {math.degrees(angulo)} grados\")\n"
   ]
  },
  {
   "cell_type": "code",
   "execution_count": 4,
   "metadata": {},
   "outputs": [
    {
     "name": "stdout",
     "output_type": "stream",
     "text": [
      "Con atan: Error de división por cero\n",
      "Con atan2: 1.5707963267948966\n"
     ]
    }
   ],
   "source": [
    "# Comparacion entre atan y atan2\n",
    "\n",
    "import math\n",
    "\n",
    "y = 1\n",
    "x = 0\n",
    "\n",
    "# Usando atan\n",
    "try:\n",
    "    print(\"Con atan:\", math.atan(y / x))  # Aqui se genera un error de division por 0 \n",
    "except ZeroDivisionError:\n",
    "    print(\"Con atan: Error de división por cero\")\n",
    "\n",
    "# Usando atan2\n",
    "print(\"Con atan2:\", math.atan2(y, x))  \n"
   ]
  },
  {
   "cell_type": "code",
   "execution_count": 8,
   "metadata": {},
   "outputs": [
    {
     "name": "stdout",
     "output_type": "stream",
     "text": [
      "angulo con atan2 (en radianes): -2.356194490192345\n",
      "angulo con atan2 (en grados): -135.0\n"
     ]
    }
   ],
   "source": [
    "# Usando valores negativos\n",
    "\n",
    "import math\n",
    "\n",
    "y = -1\n",
    "x = -1\n",
    "\n",
    "angulo = math.atan2(y, x)\n",
    "print(\"angulo con atan2 (en radianes):\", angulo)\n",
    "print(\"angulo con atan2 (en grados):\", math.degrees(angulo))\n"
   ]
  },
  {
   "cell_type": "code",
   "execution_count": 12,
   "metadata": {},
   "outputs": [
    {
     "name": "stdout",
     "output_type": "stream",
     "text": [
      "magnitud (r): 5.0\n",
      "angulo (θ en radianes): 0.9272952180016122\n",
      "angulo (θ en grados): 53.13010235415598\n"
     ]
    }
   ],
   "source": [
    "import math\n",
    "\n",
    "x = 3\n",
    "y = 4\n",
    "\n",
    "# Calcular la magnitud \n",
    "r = math.sqrt(x**2 + y**2)\n",
    "\n",
    "angulo = math.atan2(y, x)\n",
    "\n",
    "print(\"magnitud (r):\", r)\n",
    "print(\"angulo (θ en radianes):\", angulo)\n",
    "print(\"angulo (θ en grados):\", math.degrees(angulo))\n"
   ]
  }
 ],
 "metadata": {
  "kernelspec": {
   "display_name": "base",
   "language": "python",
   "name": "python3"
  },
  "language_info": {
   "codemirror_mode": {
    "name": "ipython",
    "version": 3
   },
   "file_extension": ".py",
   "mimetype": "text/x-python",
   "name": "python",
   "nbconvert_exporter": "python",
   "pygments_lexer": "ipython3",
   "version": "3.12.3"
  }
 },
 "nbformat": 4,
 "nbformat_minor": 2
}
